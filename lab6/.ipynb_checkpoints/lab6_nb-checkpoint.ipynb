{
 "cells": [
  {
   "cell_type": "markdown",
   "id": "281c8f56-ee48-4955-9003-a3d2bfe1e4d1",
   "metadata": {},
   "source": [
    "# Laboratory Work 6\n",
    "\n",
    "### **Progress of work**:\n",
    "#### I've calculated my variant for this lab"
   ]
  },
  {
   "cell_type": "code",
   "execution_count": 18,
   "id": "9a7678dc-f7f5-47e3-9266-3f535edf76a8",
   "metadata": {},
   "outputs": [
    {
     "name": "stdout",
     "output_type": "stream",
     "text": [
      "N = 4\n"
     ]
    }
   ],
   "source": [
    "N = ord('N') % 5 + 1\n",
    "print(f\"N = {N}\")"
   ]
  },
  {
   "cell_type": "markdown",
   "id": "5579b68f-47f0-47aa-a0b8-ff8ca91f1c75",
   "metadata": {},
   "source": [
    "#### Create a function that takes data from the dataframe as arguments and returns a reduced image with added \"round glasses\" and saves the resulting image to a file"
   ]
  },
  {
   "cell_type": "code",
   "execution_count": 157,
   "id": "d864137f-1a72-4f63-8ec8-e962bae79121",
   "metadata": {},
   "outputs": [
    {
     "name": "stdout",
     "output_type": "stream",
     "text": [
      "Image Path: longbottom.jpg\n",
      "Output Size: (600, 600)\n",
      "Glasses Color: magenta\n",
      "Line Width: 5\n"
     ]
    }
   ],
   "source": [
    "import pandas as pd\n",
    "import cv2\n",
    "from PIL import Image, ImageDraw\n",
    "import numpy as np\n",
    "\n",
    "df = pd.read_excel(\"lab6.xlsx\")\n",
    "row = df[df['N'] == 4].iloc[0]\n",
    "\n",
    "image_path = row['file name']\n",
    "output_size = tuple(map(int, row['image size'].split('x')))\n",
    "glasses_color = row['glasses color']\n",
    "line_width = row['line width']\n",
    "\n",
    "print(f\"Image Path: {image_path}\")\n",
    "print(f\"Output Size: {output_size}\")\n",
    "print(f\"Glasses Color: {glasses_color}\")\n",
    "print(f\"Line Width: {line_width}\")\n",
    "\n",
    "def add_round_glasses_and_resize(image_path, glasses_color, line_width, output_size):\n",
    "    original_image = cv2.imread(image_path)\n",
    "    rgb_image = cv2.cvtColor(original_image, cv2.COLOR_BGR2RGB)\n",
    "    \n",
    "    face_cascade = cv2.CascadeClassifier(cv2.data.haarcascades + 'haarcascade_frontalface_default.xml')\n",
    "    eye_cascade = cv2.CascadeClassifier(cv2.data.haarcascades + 'haarcascade_eye.xml')\n",
    "    \n",
    "    gray_image = cv2.cvtColor(original_image, cv2.COLOR_BGR2GRAY)\n",
    "    faces = face_cascade.detectMultiScale(gray_image, scaleFactor=1.1, minNeighbors=5, minSize=(100, 100))\n",
    "    \n",
    "    if len(faces) > 0:\n",
    "        (x, y, w, h) = faces[0]\n",
    "        \n",
    "        face_image = rgb_image[y:y + h, x:x + w]\n",
    "        \n",
    "        roi_gray = gray_image[y:y + h, x:x + w]\n",
    "        roi_color = face_image.copy()\n",
    "        eyes = eye_cascade.detectMultiScale(roi_gray, scaleFactor=1.1, minNeighbors=5, minSize=(30, 30))\n",
    "        \n",
    "        pil_face = Image.fromarray(roi_color)\n",
    "        draw = ImageDraw.Draw(pil_face)\n",
    "        \n",
    "        if len(eyes) >= 2:\n",
    "            eyes = sorted(eyes, key=lambda ex: ex[0])\n",
    "            eye_positions = []\n",
    "            \n",
    "            for (ex, ey, ew, eh) in eyes[:2]:\n",
    "                center = (ex + ew // 2, ey + eh // 2)\n",
    "                eye_positions.append(center)\n",
    "                \n",
    "                radius = int(ew * 0.6)\n",
    "                draw.ellipse((center[0] - radius, center[1] - radius, \n",
    "                              center[0] + radius, center[1] + radius), outline=glasses_color, width=line_width)\n",
    "            \n",
    "            if len(eye_positions) == 2:\n",
    "                left_eye_center, right_eye_center = eye_positions\n",
    "                radius = int(eyes[0][2] * 0.6)\n",
    "                \n",
    "                bridge_left = (left_eye_center[0] + radius, left_eye_center[1])\n",
    "                bridge_right = (right_eye_center[0] - radius, right_eye_center[1])\n",
    "                \n",
    "                draw.line([bridge_left, bridge_right], fill=glasses_color, width=line_width)\n",
    "                \n",
    "                temple_length = radius\n",
    "                \n",
    "                left_temple_end = (left_eye_center[0] - radius - temple_length, left_eye_center[1])\n",
    "                right_temple_end = (right_eye_center[0] + radius + temple_length, right_eye_center[1])\n",
    "                \n",
    "                draw.line([(left_eye_center[0] - radius, left_eye_center[1]), left_temple_end], \n",
    "                          fill=glasses_color, width=line_width)\n",
    "                draw.line([(right_eye_center[0] + radius, right_eye_center[1]), right_temple_end], \n",
    "                          fill=glasses_color, width=line_width)\n",
    "        \n",
    "        resized_face = pil_face.resize(output_size, Image.LANCZOS)\n",
    "        \n",
    "        return resized_face\n",
    "    else:\n",
    "        print(\"No face detected.\")\n",
    "        return None\n",
    "\n",
    "image_path1 = \"images/longbottom.jpg\"\n",
    "image_path2 = \"images/emma-watson2.jpg\"\n",
    "image_path3 = \"images/ron_wesley.jpg\"\n",
    "\n",
    "result_image1 = add_round_glasses_and_resize(image_path1, glasses_color, line_width, output_size)\n",
    "result_image2 = add_round_glasses_and_resize(image_path2, glasses_color, line_width, output_size)\n",
    "result_image3 = add_round_glasses_and_resize(image_path3, glasses_color, line_width, output_size)\n",
    "\n",
    "result_image1.save(\"longbottom_with_glasses.jpg\")\n",
    "result_image2.save(\"emma-watson2_with_glasses.jpg\")\n",
    "result_image3.save(\"ron_wesley_with_glasses.jpg\")"
   ]
  },
  {
   "cell_type": "markdown",
   "id": "3cc5234d-6612-400a-a9ee-59d7934e8968",
   "metadata": {},
   "source": [
    "---\n",
    "\n",
    "## 🏁 **Conclusion**\n",
    "\n",
    "> Having completed this laboratory work, I gained valuable practical experience in **image processing, data handling and working with such libraries as OpenCV and PIL.**\n",
    "\n",
    "---"
   ]
  }
 ],
 "metadata": {
  "kernelspec": {
   "display_name": "Python 3 (ipykernel)",
   "language": "python",
   "name": "python3"
  },
  "language_info": {
   "codemirror_mode": {
    "name": "ipython",
    "version": 3
   },
   "file_extension": ".py",
   "mimetype": "text/x-python",
   "name": "python",
   "nbconvert_exporter": "python",
   "pygments_lexer": "ipython3",
   "version": "3.8.10"
  }
 },
 "nbformat": 4,
 "nbformat_minor": 5
}
