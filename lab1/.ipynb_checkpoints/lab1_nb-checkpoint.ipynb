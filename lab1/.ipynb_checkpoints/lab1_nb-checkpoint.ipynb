{
 "cells": [
  {
   "cell_type": "markdown",
   "id": "ee93bbc8-a8f1-490f-ab9b-a30534f6132f",
   "metadata": {},
   "source": [
    "# **Burkina Faso**\n",
    "\n",
    "### _Country Information_\n",
    "\n",
    "Burkina Faso is a **landlocked country** located in West Africa. It is bordered by Mali to the north, Niger to the east, Benin to the southeast, Togo and Ghana to the south, and Côte d'Ivoire to the southwest.\n",
    "\n",
    "---\n",
    "\n",
    "### **1. Geography**\n",
    "* **Area**: _274,200 square kilometers_\n",
    "* **Capital**: Ouagadougou\n",
    "* **Climate**: Tropical, with two distinct seasons\n",
    "  1. Dry season (November to March)\n",
    "  2. Rainy season (June to September)\n",
    "\n",
    "---\n",
    "\n",
    "### **2. Population and Government**\n",
    "* **Population**: _Over 22 million people_\n",
    "  - Rural population: 70%\n",
    "  - Urban population: 30%\n",
    "* **Government**: _Semi-presidential republic_\n",
    "  - President: **Roch Marc Christian Kaboré**\n",
    "  - Prime Minister: **Christophe Joseph Marie Dabiré**\n",
    "  \n",
    "---\n",
    "\n",
    "### **3. Celebrities**\n",
    "\n",
    "| Name                    | Occupation        | Achievements                                      |\n",
    "|-------------------------|-------------------|--------------------------------------------------|\n",
    "| **Thomas Sankara**       | Politician        | Revolutionary leader and former President        |\n",
    "| **Seydou Koné (Alpha Blondy)** | Musician        | Renowned reggae artist in the francophone world  |\n",
    "| **Gérard Kango Ouédraogo** | Politician        | Former Prime Minister                            |\n",
    "\n",
    "---\n",
    "\n",
    "### **4. Cultural and Natural Attractions**\n",
    "1. **Cultural**\n",
    "   * Ouagadougou **Pan-African Film and Television Festival**\n",
    "   * National Museum of Burkina Faso\n",
    "   * Traditional masks and music\n",
    "2. **Natural**\n",
    "   * _Sindou Peaks_: Majestic rock formations\n",
    "   * **Lake Tengrela**: A popular spot for viewing hippos\n",
    "\n",
    "---\n",
    "\n",
    "### **5. Flag**"
   ]
  },
  {
   "cell_type": "code",
   "execution_count": 17,
   "id": "afe3b2c4-54eb-4c28-aa21-a8cb713a9b92",
   "metadata": {},
   "outputs": [
    {
     "data": {
      "image/svg+xml": [
       "<svg xmlns=\"http://www.w3.org/2000/svg\" xmlns:xlink=\"http://www.w3.org/1999/xlink\" version=\"1.0\" width=\"450\" height=\"300\">\n",
       "    <rect width=\"450\" height=\"300\" fill=\"#009e49\"/>\n",
       "    <rect width=\"450\" height=\"150\" fill=\"#ef2b2d\"/>\n",
       "    <g transform=\"translate(225,150)\" fill=\"#fcd116\">\n",
       "        <g id=\"c\">\n",
       "            <path id=\"t\" d=\"M 0,-50 V 0 H 25\" transform=\"rotate(18 0,-50)\"/>\n",
       "            <use xlink:href=\"#t\" transform=\"scale(-1,1)\"/>\n",
       "        </g>\n",
       "        <use xlink:href=\"#c\" transform=\"rotate(72)\"/>\n",
       "        <use xlink:href=\"#c\" transform=\"rotate(144)\"/>\n",
       "        <use xlink:href=\"#c\" transform=\"rotate(216)\"/>\n",
       "        <use xlink:href=\"#c\" transform=\"rotate(288)\"/>\n",
       "    </g>\n",
       "</svg>"
      ],
      "text/plain": [
       "<IPython.core.display.SVG object>"
      ]
     },
     "metadata": {},
     "output_type": "display_data"
    }
   ],
   "source": [
    "from IPython.display import SVG, display\n",
    "\n",
    "flag = '''\n",
    "<svg xmlns=\"http://www.w3.org/2000/svg\" xmlns:xlink=\"http://www.w3.org/1999/xlink\" version=\"1.0\" width=\"450\" height=\"300\">\n",
    "    <rect width=\"450\" height=\"300\" fill=\"#009e49\"/>\n",
    "    <rect width=\"450\" height=\"150\" fill=\"#ef2b2d\"/>\n",
    "    <g transform=\"translate(225,150)\" fill=\"#fcd116\">\n",
    "        <g id=\"c\">\n",
    "            <path id=\"t\" d=\"M 0,-50 V 0 H 25\" transform=\"rotate(18 0,-50)\"/>\n",
    "            <use xlink:href=\"#t\" transform=\"scale(-1,1)\"/>\n",
    "        </g>\n",
    "        <use xlink:href=\"#c\" transform=\"rotate(72)\"/>\n",
    "        <use xlink:href=\"#c\" transform=\"rotate(144)\"/>\n",
    "        <use xlink:href=\"#c\" transform=\"rotate(216)\"/>\n",
    "        <use xlink:href=\"#c\" transform=\"rotate(288)\"/>\n",
    "    </g>\n",
    "</svg>\n",
    "'''\n",
    "\n",
    "display(SVG(flag))"
   ]
  },
  {
   "cell_type": "code",
   "execution_count": 19,
   "id": "00168bc8-bb8a-48d5-97bd-4eceeb665f27",
   "metadata": {},
   "outputs": [
    {
     "name": "stdout",
     "output_type": "stream",
     "text": [
      "gcd is 4\n",
      "gcd is 6\n",
      "Error. There is a non-numeric value in the input.\n"
     ]
    }
   ],
   "source": [
    "def task_2(a, b):\n",
    "    # Step 1: Input validation - Ensure both inputs are integers\n",
    "    if not (isinstance(a, int) and isinstance(b, int)):\n",
    "        return \"Error. There is a non-numeric value in the input.\"\n",
    "    \n",
    "    # Step 2: Ensure inputs are non-negative\n",
    "    if a <= 0 or b <= 0:\n",
    "        return \"Error. Both numbers must be positive integers.\"\n",
    "    \n",
    "    # Step 3: Euclidean algorithm using the division method\n",
    "    while b != 0:\n",
    "        a, b = b, a % b\n",
    "    \n",
    "    return f\"gcd is {a}\"\n",
    "\n",
    "# Test cases\n",
    "print(task_2(16, 36))  # Output: gcd is 4\n",
    "print(task_2(12, 54))  # Output: gcd is 6\n",
    "print(task_2(4, 'sd'))  # Output: Error. There is a non-numeric value in the input"
   ]
  }
 ],
 "metadata": {
  "kernelspec": {
   "display_name": "Python 3 (ipykernel)",
   "language": "python",
   "name": "python3"
  },
  "language_info": {
   "codemirror_mode": {
    "name": "ipython",
    "version": 3
   },
   "file_extension": ".py",
   "mimetype": "text/x-python",
   "name": "python",
   "nbconvert_exporter": "python",
   "pygments_lexer": "ipython3",
   "version": "3.9.19"
  }
 },
 "nbformat": 4,
 "nbformat_minor": 5
}
